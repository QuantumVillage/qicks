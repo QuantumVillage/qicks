{
 "cells": [
  {
   "cell_type": "markdown",
   "id": "615f975f-789b-4be9-b70a-d1143edb6d46",
   "metadata": {},
   "source": [
    "# Securing The Box\n",
    "\n",
    "This notebook helps users to secure their PYNQ instance for resilience in both testing and possible production scenarios. \n",
    "\n",
    "It is probably a no-brainer that `xilinx:xilinx` as a login is _really quite bad_, especially for systems that are going to potentially have to undergo security testing and assessment. As such, this notebook exists to help you set this part of the overall system up in order to fix this very low-hanging fruit of a bug. \n",
    "\n",
    "To do this, the script will do a couple of things:\n",
    "\n",
    "1. It will change the default password from `xilinx` to a 24 character random string.\n",
    "2. It will add an SSH key to the `xilinx` user's login, and allow you to download the public and private keys to use for both experimentation and/or production.\n",
    "\n",
    "The concept for how much security you require is based on 'security level's which are described below. As a minimum, you should change the password and add an SSH key. For more advanced systems or those that may require more security, the script will also edit the SSH server configuration to prohibit password-based login, as well as prohibit `root` user access over SSH. These two actions effectively lock the system to only being accessible using the public/private key pair that has been generated - it is probably only for engineers who know what they are doing. \n",
    "\n",
    "As part of a good defence in depth strategy, every quantum computing system should have sufficient secuirty controls at every level. This script provides added security at the level of the controller, but your own threat modelling and risk management should be applied to the rest of your quantum computing system!\n",
    "\n",
    "## Security Levels\n",
    "\n",
    "The security levels in play can be summarised as follows:\n",
    "\n",
    "* '0' - this is just changing the default password to something long and random, generating a key, and then adding that to authorized keys. \n",
    "* '1' - does everything at level 0, and then proceeds to edit the SSHD config file to prevent root login and prevent password login. \n",
    "\n",
    "**NB** - With security level 1 you MUST have downloaded the SSH private keyfile 'id_rsa' in order to successfully log back in! Run the cells at the end of this notebook to get download links.\n",
    "\n",
    "The security hardening code is in the `secure-ssh.sh` file included in this folder. It is run in the following cell. \n",
    "\n",
    "## Setting the Security Level\n",
    "\n",
    "The security level can be set in code as seen below, but also may be set using the BASH commend:\n",
    "\n",
    "```\n",
    "export QICK_SECURITY_LEVEL=0\n",
    "```\n",
    "\n",
    "## Running the code\n",
    "\n",
    "When this code is run, the output from the script will be diplayed. \n",
    "\n",
    "**You MUST pay attention to the following output block if this is your first time running this script:**\n",
    "\n",
    "```\n",
    "========= WRITE THIS DOWN! =========\n",
    "\n",
    "[!] New Password: ZkMY1QGcB7mNvBKnkpIKaE1z\n",
    "\n",
    "===== THIS IS YOUR NEW PASSWORD!====\n",
    "```\n",
    "\n",
    "It is **IMPERATIVE** that you make note of the new password - it will no longer be 'xilinx'!! Note that your string may vary from this example. However, if you aren't running this script for the first time, this might fail, at which point you can ignore this password and keep your old one. "
   ]
  },
  {
   "cell_type": "code",
   "execution_count": 4,
   "id": "2af4e9ba-53db-4227-b5aa-918066458608",
   "metadata": {},
   "outputs": [
    {
     "name": "stdout",
     "output_type": "stream",
     "text": [
      "0\n",
      "tr: write error: Broken pipe\n",
      "tr: write error\n",
      "\n",
      "\n",
      "========= WRITE THIS DOWN! =========\n",
      "\n",
      "[!] New Password: ZkMY1QGcB7mNvBKnkpIKaE1z\n",
      "\n",
      "===== THIS IS YOUR NEW PASSWORD!====\n",
      "\n",
      "\n",
      "[i] Changing 'xilinx' user password...\n",
      "Changing password for mc.\n",
      "Current password: passwd: Authentication token manipulation error\n",
      "passwd: password unchanged\n",
      "[i] Password Not Changed! Ignore the above string.\n",
      "[i] Generating SSH keys. Private key is in the file 'id_rsa' and\n",
      "    the public key is in 'id_rsa.pub'. You will need 'id_rsa'\n",
      "    locally accessible to access the server with that key.\n",
      "Generating public/private rsa key pair.\n",
      "Your identification has been saved in ./id_rsa\n",
      "Your public key has been saved in ./id_rsa.pub\n",
      "The key fingerprint is:\n",
      "SHA256:/pPJ9o8IoYWz1ADaU8fbG8TDftlMIUugd7IcZNUGMgs Qick server\n",
      "The key's randomart image is:\n",
      "+---[RSA 4096]----+\n",
      "|    . ..Eo*o=o.. |\n",
      "|   o o ..=== o+  |\n",
      "|  . o . .==.o*   |\n",
      "|     . +.o+=o o  |\n",
      "|      + S o+     |\n",
      "|     . * ..      |\n",
      "|      o o. o     |\n",
      "|         o*. .   |\n",
      "|         .ooo..  |\n",
      "+----[SHA256]-----+\n"
     ]
    }
   ],
   "source": [
    "import os\n",
    "os.environ['QICK_SECURITY_LEVEL'] = \"0\"\n",
    "\n",
    "!./secure-ssh.sh"
   ]
  },
  {
   "cell_type": "markdown",
   "id": "05ed1d7a-82dc-4f1b-838e-a3030fbd09b5",
   "metadata": {},
   "source": [
    "## The SSH Keys\n",
    "\n",
    "In order to secure a production environment, the keys must be setup, and passwords must be disabled. Whilst this may introduce some complexity, it greatly reduces the potential attack surface and hardens the environment against attackers. \n",
    "\n",
    "To simplify this, the next cell, when run, will generate two download link buttons that will allow you to safely download the correct files. These can also be accessed from the file tree in the jupyter home page, or from the terminal."
   ]
  },
  {
   "cell_type": "code",
   "execution_count": 5,
   "id": "a0134bf3-c099-403b-810f-6623f17f96d2",
   "metadata": {},
   "outputs": [
    {
     "data": {
      "application/vnd.jupyter.widget-view+json": {
       "model_id": "52554b6d59d5473a9e6de905d64a06cd",
       "version_major": 2,
       "version_minor": 0
      },
      "text/plain": [
       "Output()"
      ]
     },
     "metadata": {},
     "output_type": "display_data"
    },
    {
     "name": "stdout",
     "output_type": "stream",
     "text": [
      "You MUST download these files now!\n"
     ]
    },
    {
     "data": {
      "application/vnd.jupyter.widget-view+json": {
       "model_id": "658bb24aa57648569b5d9fb5f8580f22",
       "version_major": 2,
       "version_minor": 0
      },
      "text/plain": [
       "Button(description='Private Key File', style=ButtonStyle())"
      ]
     },
     "metadata": {},
     "output_type": "display_data"
    },
    {
     "data": {
      "application/vnd.jupyter.widget-view+json": {
       "model_id": "1e12711246b54295944bf1130b9f1bf1",
       "version_major": 2,
       "version_minor": 0
      },
      "text/plain": [
       "Button(description='Public Key File', style=ButtonStyle())"
      ]
     },
     "metadata": {},
     "output_type": "display_data"
    }
   ],
   "source": [
    "# Soln inspired by: https://github.com/voila-dashboards/voila/issues/711 \n",
    "from ipywidgets import Output, Button\n",
    "from IPython.display import HTML, clear_output\n",
    "from base64 import b64encode\n",
    "\n",
    "download_output = Output()\n",
    "display(download_output)\n",
    "def make_download(text, filename, kind='text/json'):\n",
    "    # see https://developer.mozilla.org/en-US/docs/Web/HTTP/Basics_of_HTTP/Data_URIs for details\n",
    "    content_b64 = b64encode(text.encode()).decode()\n",
    "    data_url = f'data:{kind};charset=utf-8;base64,{content_b64}'\n",
    "    js_code = f\"\"\"\n",
    "        var a = document.createElement('a');\n",
    "        a.setAttribute('download', '{filename}');\n",
    "        a.setAttribute('href', '{data_url}');\n",
    "        a.click()\n",
    "    \"\"\"\n",
    "    with download_output:\n",
    "        clear_output()\n",
    "        display(HTML(f'<script>{js_code}</script>'))\n",
    "\n",
    "btn1 = Button(description='Private Key File')\n",
    "btn2 = Button(description='Public Key File')\n",
    "def download_priv(e=None):\n",
    "    make_download('./id_rsa', './id_rsa', kind='text/plain')\n",
    "def download_pub(e=None):\n",
    "    make_download('./id_rsa.pub', './id_rsa.pub', kind='text/plain')\n",
    "btn1.on_click(download_priv)\n",
    "btn2.on_click(download_pub)\n",
    "print(\"You MUST download these files now!\")\n",
    "display(btn1)\n",
    "display(btn2)"
   ]
  },
  {
   "cell_type": "code",
   "execution_count": null,
   "id": "98b8f2c9-944f-4e8d-bcc5-b38a1107e64e",
   "metadata": {},
   "outputs": [],
   "source": []
  }
 ],
 "metadata": {
  "kernelspec": {
   "display_name": "Python 3 (ipykernel)",
   "language": "python",
   "name": "python3"
  },
  "language_info": {
   "codemirror_mode": {
    "name": "ipython",
    "version": 3
   },
   "file_extension": ".py",
   "mimetype": "text/x-python",
   "name": "python",
   "nbconvert_exporter": "python",
   "pygments_lexer": "ipython3",
   "version": "3.11.6"
  }
 },
 "nbformat": 4,
 "nbformat_minor": 5
}
