{
 "cells": [
  {
   "cell_type": "code",
   "execution_count": 6,
   "id": "2af4e9ba-53db-4227-b5aa-918066458608",
   "metadata": {},
   "outputs": [
    {
     "name": "stdout",
     "output_type": "stream",
     "text": [
      "0\n",
      "tr: write error: Broken pipe\n",
      "tr: write error\n",
      "[!] New Password: 4nLzXaXzb3wqCjywQXfNZr16\n",
      "Changing password for mc.\n",
      "Current password: passwd: Authentication token manipulation error\n",
      "passwd: password unchanged\n",
      "Generating public/private rsa key pair.\n",
      "Your identification has been saved in ./id_rsa\n",
      "Your public key has been saved in ./id_rsa.pub\n",
      "The key fingerprint is:\n",
      "SHA256:JOBjfLMhmUm0BRXv9/KFxj08uhA5O8Rx6QfdeoZqGKA Qick server\n",
      "The key's randomart image is:\n",
      "+---[RSA 4096]----+\n",
      "|   .=o+.         |\n",
      "|   + B .     o . |\n",
      "|    @ = + . + . .|\n",
      "|   . + O o = . o |\n",
      "|      E S O . + o|\n",
      "|         o O * o |\n",
      "|          * B *  |\n",
      "|           B o o |\n",
      "|            +.   |\n",
      "+----[SHA256]-----+\n"
     ]
    }
   ],
   "source": [
    "import os\n",
    "os.environ['QICK_SECURITY_LEVEL'] = \"0\"\n",
    "\n",
    "!./secure-ssh.sh"
   ]
  },
  {
   "cell_type": "code",
   "execution_count": 7,
   "id": "a0134bf3-c099-403b-810f-6623f17f96d2",
   "metadata": {},
   "outputs": [
    {
     "data": {
      "application/vnd.jupyter.widget-view+json": {
       "model_id": "6b3b6ba411164b15aa11a72f3edb5d89",
       "version_major": 2,
       "version_minor": 0
      },
      "text/plain": [
       "Output()"
      ]
     },
     "metadata": {},
     "output_type": "display_data"
    },
    {
     "name": "stdout",
     "output_type": "stream",
     "text": [
      "You MUST download these files now!\n"
     ]
    },
    {
     "data": {
      "application/vnd.jupyter.widget-view+json": {
       "model_id": "d645633d10934d4a826b9cfb054c8882",
       "version_major": 2,
       "version_minor": 0
      },
      "text/plain": [
       "Button(description='Private Key File', style=ButtonStyle())"
      ]
     },
     "metadata": {},
     "output_type": "display_data"
    },
    {
     "data": {
      "application/vnd.jupyter.widget-view+json": {
       "model_id": "99de54e48e894e1dad5a69b41c0bad1b",
       "version_major": 2,
       "version_minor": 0
      },
      "text/plain": [
       "Button(description='Public Key File', style=ButtonStyle())"
      ]
     },
     "metadata": {},
     "output_type": "display_data"
    }
   ],
   "source": [
    "# Soln inspired by: https://github.com/voila-dashboards/voila/issues/711 \n",
    "from ipywidgets import Output, Button\n",
    "from IPython.display import HTML, clear_output\n",
    "from base64 import b64encode\n",
    "\n",
    "download_output = Output()\n",
    "display(download_output)\n",
    "def make_download(text, filename, kind='text/json'):\n",
    "    # see https://developer.mozilla.org/en-US/docs/Web/HTTP/Basics_of_HTTP/Data_URIs for details\n",
    "    content_b64 = b64encode(text.encode()).decode()\n",
    "    data_url = f'data:{kind};charset=utf-8;base64,{content_b64}'\n",
    "    js_code = f\"\"\"\n",
    "        var a = document.createElement('a');\n",
    "        a.setAttribute('download', '{filename}');\n",
    "        a.setAttribute('href', '{data_url}');\n",
    "        a.click()\n",
    "    \"\"\"\n",
    "    with download_output:\n",
    "        clear_output()\n",
    "        display(HTML(f'<script>{js_code}</script>'))\n",
    "\n",
    "btn1 = Button(description='Private Key File')\n",
    "btn2 = Button(description='Public Key File')\n",
    "def download_priv(e=None):\n",
    "    make_download('./id_rsa', './id_rsa', kind='text/plain')\n",
    "def download_pub(e=None):\n",
    "    make_download('./id_rsa.pub', './id_rsa.pub', kind='text/plain')\n",
    "btn1.on_click(download_priv)\n",
    "btn2.on_click(download_pub)\n",
    "print(\"You MUST download these files now!\")\n",
    "display(btn1)\n",
    "display(btn2)"
   ]
  },
  {
   "cell_type": "code",
   "execution_count": null,
   "id": "98b8f2c9-944f-4e8d-bcc5-b38a1107e64e",
   "metadata": {},
   "outputs": [],
   "source": []
  }
 ],
 "metadata": {
  "kernelspec": {
   "display_name": "Python 3 (ipykernel)",
   "language": "python",
   "name": "python3"
  },
  "language_info": {
   "codemirror_mode": {
    "name": "ipython",
    "version": 3
   },
   "file_extension": ".py",
   "mimetype": "text/x-python",
   "name": "python",
   "nbconvert_exporter": "python",
   "pygments_lexer": "ipython3",
   "version": "3.11.6"
  }
 },
 "nbformat": 4,
 "nbformat_minor": 5
}
